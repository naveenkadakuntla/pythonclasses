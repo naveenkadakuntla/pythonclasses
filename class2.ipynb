{
 "cells": [
  {
   "cell_type": "markdown",
   "metadata": {},
   "source": [
    "# Simple Addition Program"
   ]
  },
  {
   "cell_type": "code",
   "execution_count": 2,
   "metadata": {},
   "outputs": [
    {
     "name": "stdout",
     "output_type": "stream",
     "text": [
      "Enter a Number23\n",
      "enter another Number34343\n",
      "34366\n"
     ]
    }
   ],
   "source": [
    "a=int(input(\"Enter a Number\"))\n",
    "b=int(input(\"enter another Number\"))\n",
    "print(a+b)"
   ]
  },
  {
   "cell_type": "markdown",
   "metadata": {},
   "source": [
    "# A Program to Find out the Square root of a number"
   ]
  },
  {
   "cell_type": "code",
   "execution_count": 7,
   "metadata": {},
   "outputs": [
    {
     "name": "stdout",
     "output_type": "stream",
     "text": [
      "Enter a Number to find its square root25\n",
      "The square root of the Number is  5.0\n"
     ]
    }
   ],
   "source": [
    "import math\n",
    "num=float(input(\"Enter a Number to find its square root\"))\n",
    "root=math.sqrt(num)\n",
    "print(\"The square root of the Number is \",root)"
   ]
  },
  {
   "cell_type": "markdown",
   "metadata": {},
   "source": [
    "Note Convert the program to output integer value without any decimal places when the result is integer"
   ]
  },
  {
   "cell_type": "markdown",
   "metadata": {},
   "source": [
    "# A Program to Find out the Cube root of a number"
   ]
  },
  {
   "cell_type": "code",
   "execution_count": 12,
   "metadata": {},
   "outputs": [
    {
     "name": "stdout",
     "output_type": "stream",
     "text": [
      "Enter a Number to find its root value125\n",
      "Enter the root value3\n",
      "The square root of the Number is  5.0\n"
     ]
    }
   ],
   "source": [
    "import math\n",
    "num=float(input(\"Enter a Number to find its root value\"))\n",
    "root=float(input(\"Enter the root value\"))\n",
    "root=math.pow(num,1/root)\n",
    "print(\"The square root of the Number is \",root)"
   ]
  },
  {
   "cell_type": "code",
   "execution_count": null,
   "metadata": {},
   "outputs": [],
   "source": []
  }
 ],
 "metadata": {
  "kernelspec": {
   "display_name": "Python 3",
   "language": "python",
   "name": "python3"
  },
  "language_info": {
   "codemirror_mode": {
    "name": "ipython",
    "version": 3
   },
   "file_extension": ".py",
   "mimetype": "text/x-python",
   "name": "python",
   "nbconvert_exporter": "python",
   "pygments_lexer": "ipython3",
   "version": "3.9.1"
  }
 },
 "nbformat": 4,
 "nbformat_minor": 4
}
