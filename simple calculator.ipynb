{
 "cells": [
  {
   "cell_type": "code",
   "execution_count": 1,
   "metadata": {},
   "outputs": [
    {
     "name": "stdin",
     "output_type": "stream",
     "text": [
      "Enter your first number:  1\n",
      "Enter your second number:  3\n",
      "Please select the type of operation you want to perform:\n",
      "'+' for addition\n",
      "'-' for subtraction\n",
      "'*' for multiplication\n",
      "'/' for division *\n"
     ]
    },
    {
     "name": "stdout",
     "output_type": "stream",
     "text": [
      "a *b = \n",
      "3\n"
     ]
    }
   ],
   "source": [
    "a = int(input('Enter your first number: '))\n",
    "b = int(input('Enter your second number: '))\n",
    "operator = input(\"\"\"Please select the type of operation you want to perform:\n",
    "'+' for addition\n",
    "'-' for subtraction\n",
    "'*' for multiplication\n",
    "'/' for division\"\"\") \n",
    "if operator == '+':\n",
    "    print('a + b = ')\n",
    "    print(a + b)\n",
    " \n",
    "if operator == '-':\n",
    "    print('a - b = ')\n",
    "    print(a - b)\n",
    " \n",
    "if operator == '*':\n",
    "    print('a *b = ')\n",
    "    print(a * b)\n",
    " \n",
    "if operator == '/':\n",
    "    print('a/ b = ')\n",
    "    print(a / b)\n",
    "\n"
   ]
  },
  {
   "cell_type": "code",
   "execution_count": null,
   "metadata": {},
   "outputs": [],
   "source": []
  }
 ],
 "metadata": {
  "kernelspec": {
   "display_name": "Python 3",
   "language": "python",
   "name": "python3"
  },
  "language_info": {
   "codemirror_mode": {
    "name": "ipython",
    "version": 3
   },
   "file_extension": ".py",
   "mimetype": "text/x-python",
   "name": "python",
   "nbconvert_exporter": "python",
   "pygments_lexer": "ipython3",
   "version": "3.9.1"
  }
 },
 "nbformat": 4,
 "nbformat_minor": 4
}
